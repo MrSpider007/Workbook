{
 "cells": [
  {
   "cell_type": "code",
   "execution_count": 3,
   "id": "7549d1f3",
   "metadata": {},
   "outputs": [
    {
     "ename": "NameError",
     "evalue": "name 'name' is not defined",
     "output_type": "error",
     "traceback": [
      "\u001b[1;31m---------------------------------------------------------------------------\u001b[0m",
      "\u001b[1;31mNameError\u001b[0m                                 Traceback (most recent call last)",
      "\u001b[1;32m~\\AppData\\Local\\Temp/ipykernel_6356/2562023779.py\u001b[0m in \u001b[0;36m<module>\u001b[1;34m\u001b[0m\n\u001b[0;32m      6\u001b[0m \u001b[1;33m\u001b[0m\u001b[0m\n\u001b[0;32m      7\u001b[0m \u001b[0mTony_is_genius\u001b[0m \u001b[1;33m=\u001b[0m \u001b[1;34m'Ture'\u001b[0m\u001b[1;33m\u001b[0m\u001b[1;33m\u001b[0m\u001b[0m\n\u001b[1;32m----> 8\u001b[1;33m \u001b[0mprint\u001b[0m\u001b[1;33m(\u001b[0m\u001b[0mname\u001b[0m\u001b[1;33m)\u001b[0m\u001b[1;33m\u001b[0m\u001b[1;33m\u001b[0m\u001b[0m\n\u001b[0m\u001b[0;32m      9\u001b[0m \u001b[0mprint\u001b[0m\u001b[1;33m(\u001b[0m\u001b[0mage\u001b[0m\u001b[1;33m)\u001b[0m\u001b[1;33m\u001b[0m\u001b[1;33m\u001b[0m\u001b[0m\n",
      "\u001b[1;31mNameError\u001b[0m: name 'name' is not defined"
     ]
    }
   ],
   "source": [
    "#add a person with name Sumit Kumar,Sumit age is 25 years old\n",
    "#Sumit is a genius.\n",
    "first_name = \"Sumit\"\n",
    "last_name = \"Kumar\"\n",
    "age = 51\n",
    "\n",
    "Tony_is_genius = 'Ture'\n",
    "print(name)\n",
    "print(age)"
   ]
  },
  {
   "cell_type": "code",
   "execution_count": 6,
   "id": "ab0e6ba1",
   "metadata": {},
   "outputs": [
    {
     "name": "stdout",
     "output_type": "stream",
     "text": [
      "SumitKumar\n",
      "51\n"
     ]
    }
   ],
   "source": [
    "a = \"Sumit\"\n",
    "b = \"Kumar\"\n",
    "age = 51\n",
    "\n",
    "is_genius = \"Ture\"\n",
    "print(a + b)\n",
    "print(age)"
   ]
  },
  {
   "cell_type": "code",
   "execution_count": 1,
   "id": "817141ef",
   "metadata": {},
   "outputs": [
    {
     "name": "stdout",
     "output_type": "stream",
     "text": [
      "What is your namr? Pavan Mishra\n"
     ]
    },
    {
     "data": {
      "text/plain": [
       "'Pavan Mishra'"
      ]
     },
     "execution_count": 1,
     "metadata": {},
     "output_type": "execute_result"
    }
   ],
   "source": [
    "#take input from user and ? \n",
    "input(\"What is your namr? \")"
   ]
  },
  {
   "cell_type": "code",
   "execution_count": 3,
   "id": "2b0009ba",
   "metadata": {},
   "outputs": [
    {
     "name": "stdout",
     "output_type": "stream",
     "text": [
      "What is your name? Pavan Mishra\n",
      "hello Pavan Mishra\n"
     ]
    }
   ],
   "source": [
    "#How to store user input?\n",
    "name = input(\"What is your name? \")\n",
    "print(\"hello \" + name)"
   ]
  },
  {
   "cell_type": "code",
   "execution_count": 5,
   "id": "cff6a3c3",
   "metadata": {},
   "outputs": [
    {
     "name": "stdout",
     "output_type": "stream",
     "text": [
      "what is your superhero name? Iron Man\n"
     ]
    }
   ],
   "source": [
    "#Tony is secretly a superhero.ask him for his superhero name\n",
    "#and show it in the terminal\n",
    "superhero = input(\"what is your superhero name? \")\n"
   ]
  },
  {
   "cell_type": "code",
   "execution_count": 7,
   "id": "8268fe9a",
   "metadata": {},
   "outputs": [
    {
     "name": "stdout",
     "output_type": "stream",
     "text": [
      "enter first number : 20\n",
      "enter second number : 30\n",
      "50\n"
     ]
    }
   ],
   "source": [
    "#type of conversion\n",
    "first = input(\"enter first number : \")\n",
    "second = input(\"enter second number : \")\n",
    "sum = int(first) + int(second)\n",
    "print(sum)\n"
   ]
  },
  {
   "cell_type": "code",
   "execution_count": 10,
   "id": "3472d241",
   "metadata": {},
   "outputs": [
    {
     "name": "stdout",
     "output_type": "stream",
     "text": [
      "tony stark\n",
      "Tony Stark\n"
     ]
    }
   ],
   "source": [
    "name = \"Tony Stark\"  \n",
    "print(name.lower())   #print name upper and lower case\n",
    "print(name) #for original str"
   ]
  },
  {
   "cell_type": "code",
   "execution_count": 14,
   "id": "585409cb",
   "metadata": {},
   "outputs": [
    {
     "name": "stdout",
     "output_type": "stream",
     "text": [
      "5\n"
     ]
    }
   ],
   "source": [
    "#how to find latter  small or captial\n",
    "name = \"Tony Stark\"\n",
    "print(name.find('S'))"
   ]
  },
  {
   "cell_type": "code",
   "execution_count": null,
   "id": "e23e1d63",
   "metadata": {},
   "outputs": [],
   "source": [
    "# single ' cot --  single char\n",
    "# double \" cot --- for string or pragrabh"
   ]
  },
  {
   "cell_type": "code",
   "execution_count": 6,
   "id": "e4e84299",
   "metadata": {},
   "outputs": [
    {
     "name": "stdout",
     "output_type": "stream",
     "text": [
      "Anupam Mishra\n"
     ]
    }
   ],
   "source": [
    "#replace (character , string,)\n",
    "\n",
    "name = \"Pavan Mishra\"\n",
    "print(name.replace(\"Pavan Mishra\", \"Anupam Mishra\"))"
   ]
  },
  {
   "cell_type": "code",
   "execution_count": 9,
   "id": "4ee5664e",
   "metadata": {},
   "outputs": [
    {
     "name": "stdout",
     "output_type": "stream",
     "text": [
      "False\n"
     ]
    }
   ],
   "source": [
    "#keyword or dict\n",
    "name = \"Tony Stark\"\n",
    "print('Pavan' in name)\n"
   ]
  },
  {
   "cell_type": "code",
   "execution_count": 17,
   "id": "abd67891",
   "metadata": {},
   "outputs": [
    {
     "name": "stdout",
     "output_type": "stream",
     "text": [
      "25\n"
     ]
    }
   ],
   "source": [
    "#Arithmetic operator ()\n",
    "print(5 ** 2)        #use double // for remove decimal point\n"
   ]
  },
  {
   "cell_type": "code",
   "execution_count": 19,
   "id": "61fb13f1",
   "metadata": {},
   "outputs": [
    {
     "name": "stdout",
     "output_type": "stream",
     "text": [
      "17\n"
     ]
    }
   ],
   "source": [
    "#operator Precedence  (just like a bodomos)\n",
    "\n",
    "result = 2 + 3 * 5\n",
    "print(result)\n",
    "\n"
   ]
  },
  {
   "cell_type": "code",
   "execution_count": 30,
   "id": "35544c7b",
   "metadata": {},
   "outputs": [
    {
     "name": "stdout",
     "output_type": "stream",
     "text": [
      "True\n"
     ]
    }
   ],
   "source": [
    "#comparison Operators (its define true or false)\n",
    "print(3 != 5)"
   ]
  },
  {
   "cell_type": "code",
   "execution_count": 32,
   "id": "edadf73e",
   "metadata": {},
   "outputs": [
    {
     "name": "stdout",
     "output_type": "stream",
     "text": [
      "True\n",
      "False\n"
     ]
    }
   ],
   "source": [
    "#logical operator \n",
    "#three type of logical operatrer in pyhton\n",
    "#1 [ or operator ] - if atlest one is true than print true.\n",
    "#                     if two condition is false than print \n",
    "\n",
    "#condition 1\n",
    "print(2 > 3 or 2 > 1)\n",
    "\n",
    "#condition 2\n",
    "print(2 > 3 or 2 < 1)"
   ]
  },
  {
   "cell_type": "code",
   "execution_count": 2,
   "id": "b28fb238",
   "metadata": {},
   "outputs": [
    {
     "name": "stdout",
     "output_type": "stream",
     "text": [
      "True\n",
      "False\n"
     ]
    }
   ],
   "source": [
    "#logical operator\n",
    "#2- [ And operator ] if two condition is true than print true \n",
    "#                    otherwise print false\n",
    "\n",
    "#condition 1\n",
    "print(3 > 2 and 2 > 1)\n",
    "\n",
    "#condition 1\n",
    "print(3 > 5 and 2 > 6)\n"
   ]
  },
  {
   "cell_type": "code",
   "execution_count": 7,
   "id": "1f5d88d1",
   "metadata": {},
   "outputs": [
    {
     "name": "stdout",
     "output_type": "stream",
     "text": [
      "False\n",
      "True\n"
     ]
    }
   ],
   "source": [
    "#logical operator\n",
    "#3- [ Not operator ] not operator prints correct option false\n",
    "                    #  and  false option true\n",
    "\n",
    "#condition 1\n",
    "print(not 2 < 3)        # here in condition is true but using\n",
    "                        # not operator its print false\n",
    "\n",
    "#condition 2\n",
    "print (not 3 > 6)        # here in condition is false but using\n",
    "                        # not operator its print true\n"
   ]
  },
  {
   "cell_type": "code",
   "execution_count": 28,
   "id": "22765d68",
   "metadata": {},
   "outputs": [
    {
     "name": "stdout",
     "output_type": "stream",
     "text": [
      "you are an adult\n",
      "you can vote\n",
      "thankyou\n"
     ]
    }
   ],
   "source": [
    "#if-else statement generally used for conditional statement.\n",
    "# for example sun rise than we print day and sun set than we print night.\n",
    "\n",
    "#condition 1 \n",
    "age = 19\n",
    "\n",
    "if age >= 18:\n",
    "    print(\"you are an adult\")  #here \" if \" check the statement age 19 greaten than 18.\n",
    "    print(\"you can vote\")      \n",
    "\n",
    "print(\"thankyou\")\n",
    "\n"
   ]
  },
  {
   "cell_type": "code",
   "execution_count": 29,
   "id": "f52ecc46",
   "metadata": {},
   "outputs": [
    {
     "name": "stdout",
     "output_type": "stream",
     "text": [
      "thankyou\n"
     ]
    }
   ],
   "source": [
    "# If else statement  \n",
    "#condition 2\n",
    "age = 17\n",
    "\n",
    "if age >= 18:                 # indentation means proper space.\n",
    "    print(\"you are an adult\")  #here \"if\" check the statement age 17 less than 18.\n",
    "    print(\"you can vote\")      \n",
    "\n",
    "print(\"thankyou\")\n"
   ]
  },
  {
   "cell_type": "code",
   "execution_count": 40,
   "id": "b49ecb5d",
   "metadata": {},
   "outputs": [
    {
     "name": "stdout",
     "output_type": "stream",
     "text": [
      "you are in school\n"
     ]
    }
   ],
   "source": [
    "# Elif condition\n",
    "\n",
    "age = 17\n",
    "\n",
    "if age >= 18:                 # indentation means proper space.\n",
    "    print(\"you are an adult\")  \n",
    "    print(\"you can vote\")   \n",
    "elif age < 18 and age > 3:     \n",
    "    print(\"you are in school\")\n",
    "else:\n",
    "    print(\"you are a child\")    #all two condition is false than print else condition. \n",
    "    \n",
    "#here If define starting condition is true or false\n",
    "# elif condition define starting condition is not true than check 2nd or 3rd condition. \n",
    "# else condition check the \" if \" and \" elif \" condition than  print else condition.  \n"
   ]
  },
  {
   "cell_type": "code",
   "execution_count": 51,
   "id": "6e988e14",
   "metadata": {},
   "outputs": [
    {
     "name": "stdout",
     "output_type": "stream",
     "text": [
      "enter first number : 10\n",
      "enter operator (+,-,*,/,%) : *\n",
      "enter second number : 10\n",
      "100\n"
     ]
    }
   ],
   "source": [
    "#Let's build tha calculator.\n",
    "\n",
    "first = input(\"enter first number : \")\n",
    "#we praform five operator.\n",
    "operator = input(\"enter operator (+,-,*,/,%) : \") \n",
    "second = input(\"enter second number : \")\n",
    "\n",
    "#lets convert the first and second string to number form.\n",
    "first = int(first)\n",
    "second = int(second)\n",
    "\n",
    "\n",
    "# now we use if, elif, else condition for add, subtract, or multiply etc.\n",
    "\n",
    "if operator == \"+\":\n",
    "    print(first + second)\n",
    "elif operator == \"-\":\n",
    "    print(first - second)\n",
    "#elif condition apply to check 2nd or 1st is true and \n",
    "#if condition is use for check all condition. \n",
    "elif operator == \"*\":\n",
    "    print(first * second)\n",
    "elif operator == \"/\":\n",
    "    print(first / second)\n",
    "elif operator == \"%\":\n",
    "    print(first % second)\n",
    "else:\n",
    "    print(\"invalid operation\")\n",
    "      \n",
    "     \n"
   ]
  },
  {
   "cell_type": "code",
   "execution_count": 48,
   "id": "0dca328b",
   "metadata": {},
   "outputs": [
    {
     "name": "stdout",
     "output_type": "stream",
     "text": [
      "enter first number : 5\n",
      "enter operator (+,-,*,/,%) : +\n",
      "enter second number : 5\n",
      "10\n"
     ]
    }
   ],
   "source": [
    "#condition 2\n",
    "#Let's build tha calculator.\n",
    "first = input(\"enter first number : \")\n",
    "#we praform five operator.\n",
    "operator = input(\"enter operator (+,-,*,/,%) : \") \n",
    "second = input(\"enter second number : \")\n",
    "\n",
    "first = int(first)\n",
    "second = int(second)\n",
    "\n",
    "\n",
    "\n",
    "# now we use if, elif, else condition for add, subtract, or multiply etc.\n",
    "\n",
    "if operator == \"+\":\n",
    "    print(first + second)\n",
    "if operator == \"-\":\n",
    "    print(first - second)\n",
    "#elif condition apply to check 2nd or 1st is true and \n",
    "#if condition is apply  to check all condition than give answer. \n",
    "if operator == \"*\":\n",
    "    print(first * second)\n",
    "if operator == \"/\":\n",
    "    print(first / second)\n",
    "if operator == \"%\":\n",
    "    print(first % second)\n",
    "else:\n",
    "    print(\"invalid operation\")\n",
    "      \n",
    "\n",
    "      "
   ]
  },
  {
   "cell_type": "code",
   "execution_count": null,
   "id": "47eb70b5",
   "metadata": {},
   "outputs": [],
   "source": [
    "#Range"
   ]
  }
 ],
 "metadata": {
  "kernelspec": {
   "display_name": "Python 3 (ipykernel)",
   "language": "python",
   "name": "python3"
  },
  "language_info": {
   "codemirror_mode": {
    "name": "ipython",
    "version": 3
   },
   "file_extension": ".py",
   "mimetype": "text/x-python",
   "name": "python",
   "nbconvert_exporter": "python",
   "pygments_lexer": "ipython3",
   "version": "3.9.7"
  }
 },
 "nbformat": 4,
 "nbformat_minor": 5
}
