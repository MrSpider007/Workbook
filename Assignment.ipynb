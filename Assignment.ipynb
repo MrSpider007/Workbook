{
 "cells": [
  {
   "cell_type": "code",
   "execution_count": null,
   "id": "92a73293",
   "metadata": {},
   "outputs": [],
   "source": [
    "# 1.Python program to add two numbers."
   ]
  },
  {
   "cell_type": "code",
   "execution_count": 2,
   "id": "d88bb601",
   "metadata": {},
   "outputs": [
    {
     "name": "stdout",
     "output_type": "stream",
     "text": [
      "enter first number: 30\n",
      "enter second number: 20\n"
     ]
    }
   ],
   "source": [
    "a = int(input(\"enter first number: \"))\n",
    "b = int(input(\"enter second number: \"))\n",
    "sum = a + b\n",
    "print = a + b"
   ]
  },
  {
   "cell_type": "code",
   "execution_count": null,
   "id": "f5007a62",
   "metadata": {},
   "outputs": [],
   "source": [
    "# 2. Maximum of two numbers in Python"
   ]
  },
  {
   "cell_type": "code",
   "execution_count": 1,
   "id": "afdc7f54",
   "metadata": {},
   "outputs": [
    {
     "name": "stdout",
     "output_type": "stream",
     "text": [
      "8\n"
     ]
    }
   ],
   "source": [
    "a= 8\n",
    "b= 1 \n",
    "maximum = max(a,b)\n",
    "print(maximum)"
   ]
  },
  {
   "cell_type": "code",
   "execution_count": 5,
   "id": "07aaa983",
   "metadata": {},
   "outputs": [
    {
     "name": "stdout",
     "output_type": "stream",
     "text": [
      "Simple Interest 40.0\n"
     ]
    }
   ],
   "source": [
    "# 4. Python Program for simple interest.\n",
    "\n",
    "p = 100\n",
    "r = 8\n",
    "t = 5\n",
    "SI = (p * r * t) / 100\n",
    "print(\"Simple Interest\", SI)"
   ]
  },
  {
   "cell_type": "code",
   "execution_count": 17,
   "id": "3606d371",
   "metadata": {},
   "outputs": [
    {
     "ename": "SyntaxError",
     "evalue": "invalid syntax (<ipython-input-17-648e0a3b7b0f>, line 4)",
     "output_type": "error",
     "traceback": [
      "\u001b[1;36m  File \u001b[1;32m\"<ipython-input-17-648e0a3b7b0f>\"\u001b[1;36m, line \u001b[1;32m4\u001b[0m\n\u001b[1;33m    compound_interest(principle, rate, time,):\u001b[0m\n\u001b[1;37m                                              ^\u001b[0m\n\u001b[1;31mSyntaxError\u001b[0m\u001b[1;31m:\u001b[0m invalid syntax\n"
     ]
    }
   ],
   "source": [
    "# 5 Python program for compound interest.\n",
    "\n",
    "\n",
    "compound_interest(principle, rate, time,):\n",
    "    CI = principal * (pow((1 + rate / 100), time))\n",
    "    print(\" compound interest : \", CI)\n",
    "    compound_interest (10000, 5.59, 2)\n",
    "\n"
   ]
  },
  {
   "cell_type": "code",
   "execution_count": 18,
   "id": "3a71fefe",
   "metadata": {},
   "outputs": [
    {
     "name": "stdout",
     "output_type": "stream",
     "text": [
      "Compound interest :  11616.528400000001\n"
     ]
    }
   ],
   "source": [
    "# 5 Python program for compound interest.\n",
    "\n",
    "def compound_interest(principle, rate, time):\n",
    "   CI = principle * (pow((1 + rate / 100), time))\n",
    "   print(\"Compound interest : \", CI)\n",
    "# main\n",
    "compound_interest(10000, 7.78, 2)"
   ]
  },
  {
   "cell_type": "code",
   "execution_count": 20,
   "id": "a9c5b9c2",
   "metadata": {},
   "outputs": [
    {
     "name": "stdout",
     "output_type": "stream",
     "text": [
      "enter the radius of the circle: 6\n",
      "149.40\n"
     ]
    }
   ],
   "source": [
    "# 7.Python Program for Program to find area of a circle.\n",
    "\n",
    "PI = 4.15\n",
    "r = float(input(\"enter the radius of the circle: \"))\n",
    "area = PI * r * r\n",
    "print(\"%.2f\" %area)"
   ]
  },
  {
   "cell_type": "code",
   "execution_count": null,
   "id": "0fce0870",
   "metadata": {},
   "outputs": [],
   "source": [
    "# 8.Python program to print all Prime numbers in an Interval.\n",
    "\n"
   ]
  }
 ],
 "metadata": {
  "kernelspec": {
   "display_name": "Python 3",
   "language": "python",
   "name": "python3"
  },
  "language_info": {
   "codemirror_mode": {
    "name": "ipython",
    "version": 3
   },
   "file_extension": ".py",
   "mimetype": "text/x-python",
   "name": "python",
   "nbconvert_exporter": "python",
   "pygments_lexer": "ipython3",
   "version": "3.8.8"
  }
 },
 "nbformat": 4,
 "nbformat_minor": 5
}
