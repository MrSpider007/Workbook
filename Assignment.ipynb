{
 "cells": [
  {
   "cell_type": "code",
   "execution_count": null,
   "id": "92a73293",
   "metadata": {},
   "outputs": [],
   "source": [
    "# 1.Python program to add two numbers."
   ]
  },
  {
   "cell_type": "code",
   "execution_count": 2,
   "id": "d88bb601",
   "metadata": {},
   "outputs": [
    {
     "name": "stdout",
     "output_type": "stream",
     "text": [
      "enter first number: 30\n",
      "enter second number: 20\n"
     ]
    }
   ],
   "source": [
    "a = int(input(\"enter first number: \"))\n",
    "b = int(input(\"enter second number: \"))\n",
    "sum = a + b\n",
    "print = a + b"
   ]
  },
  {
   "cell_type": "code",
   "execution_count": null,
   "id": "f5007a62",
   "metadata": {},
   "outputs": [],
   "source": [
    "# 2. Maximum of two numbers in Python"
   ]
  },
  {
   "cell_type": "code",
   "execution_count": 1,
   "id": "afdc7f54",
   "metadata": {},
   "outputs": [
    {
     "name": "stdout",
     "output_type": "stream",
     "text": [
      "8\n"
     ]
    }
   ],
   "source": [
    "a= 8\n",
    "b= 1 \n",
    "maximum = max(a,b)\n",
    "print(maximum)"
   ]
  },
  {
   "cell_type": "code",
   "execution_count": 11,
   "id": "3d7dfab2",
   "metadata": {},
   "outputs": [
    {
     "name": "stdout",
     "output_type": "stream",
     "text": [
      "factorial of 5 is 120\n"
     ]
    }
   ],
   "source": [
    "# 3. Python Program for factorial of a number.\n",
    "\n",
    "import math\n",
    "\n",
    "def factorial(n):\n",
    "    return(math.factorial(n))\n",
    "\n",
    "#driver code\n",
    "num = 5\n",
    "print(\"factorial of\", num, \"is\",\n",
    "       factorial(num))\n",
    "\n",
    "\n"
   ]
  },
  {
   "cell_type": "code",
   "execution_count": 5,
   "id": "07aaa983",
   "metadata": {},
   "outputs": [
    {
     "name": "stdout",
     "output_type": "stream",
     "text": [
      "Simple Interest 40.0\n"
     ]
    }
   ],
   "source": [
    "# 4. Python Program for simple interest.\n",
    "\n",
    "p = 100\n",
    "r = 8\n",
    "t = 5\n",
    "SI = (p * r * t) / 100\n",
    "print(\"Simple Interest\", SI)"
   ]
  },
  {
   "cell_type": "code",
   "execution_count": 4,
   "id": "3a71fefe",
   "metadata": {},
   "outputs": [
    {
     "name": "stdout",
     "output_type": "stream",
     "text": [
      "Compound interest :  11149.248100000003\n"
     ]
    }
   ],
   "source": [
    "# 5 Python program for compound interest.\n",
    "\n",
    "def compound_interest(principle, rate, time):\n",
    "   CI = principle * (pow((1 + rate / 100), time))\n",
    "   print(\"Compound interest : \", CI)\n",
    "# main\n",
    "compound_interest(10000, 5.59, 2)"
   ]
  },
  {
   "cell_type": "code",
   "execution_count": 28,
   "id": "4692ae51",
   "metadata": {},
   "outputs": [
    {
     "name": "stdout",
     "output_type": "stream",
     "text": [
      "1634 is an amrstong number\n"
     ]
    }
   ],
   "source": [
    "# 6.Python Program to check Armstrong Number.\n",
    "\n",
    "num = 1634\n",
    "order = len(str(num))\n",
    " \n",
    "sum = 0\n",
    "    \n",
    "temp = num\n",
    "while temp > 0:\n",
    "    digit = temp % 10\n",
    "    sum += digit ** order\n",
    "    temp //= 10\n",
    "        \n",
    "if num == sum : \n",
    "    print(num,\"is an amrstong number\")\n",
    "else:\n",
    "    print(num,\"is not an amrstrong number\")"
   ]
  },
  {
   "cell_type": "code",
   "execution_count": 13,
   "id": "a9c5b9c2",
   "metadata": {},
   "outputs": [
    {
     "name": "stdout",
     "output_type": "stream",
     "text": [
      "enter the radius of the circle: 6\n",
      "149.40\n"
     ]
    }
   ],
   "source": [
    "# 7.Python Program for Program to find area of a circle.\n",
    "\n",
    "PI = 4.15\n",
    "r = float(input(\"enter the radius of the circle: \"))\n",
    "area = PI * r * r\n",
    "print(\"%.2f\" %area)"
   ]
  },
  {
   "cell_type": "code",
   "execution_count": 18,
   "id": "a4243a35",
   "metadata": {},
   "outputs": [
    {
     "name": "stdout",
     "output_type": "stream",
     "text": [
      "enter lower range: 1\n",
      "enter upper range: 20\n",
      "2\n",
      "3\n",
      "5\n",
      "7\n",
      "11\n",
      "13\n",
      "17\n",
      "19\n"
     ]
    }
   ],
   "source": [
    "# 8.Python program to print all Prime numbers in an Interval.\n",
    "\n",
    "lower = int(input(\"enter lower range: \"))\n",
    "upper = int(input(\"enter upper range: \"))\n",
    "\n",
    "for num in range(lower,upper + 1):\n",
    "    if num > 1:\n",
    "        for i in range(2, num):\n",
    "            if (num % i) == 0:\n",
    "                break\n",
    "        else:\n",
    "            print(num)\n",
    "                    "
   ]
  },
  {
   "cell_type": "code",
   "execution_count": null,
   "id": "0bd9f8e3",
   "metadata": {},
   "outputs": [],
   "source": [
    "# 9.Python program to check whether a number is Prime or not.\n"
   ]
  },
  {
   "cell_type": "code",
   "execution_count": 29,
   "id": "0fce0870",
   "metadata": {},
   "outputs": [
    {
     "name": "stdout",
     "output_type": "stream",
     "text": [
      "34\n"
     ]
    }
   ],
   "source": [
    "# 10. Python Program for n-th Fibonacci number.\n",
    "\n",
    "#recursive approach\n",
    "def Fibonacci(n):\n",
    "   if n<0:\n",
    "      print(\"Fibbonacci can't be computed\")\n",
    "   # First Fibonacci number\n",
    "   elif n==1:\n",
    "      return 0\n",
    "   # Second Fibonacci number\n",
    "   elif n==2:\n",
    "      return 1\n",
    "   else:\n",
    "      return Fibonacci(n-1)+Fibonacci(n-2)\n",
    "# main\n",
    "n=10\n",
    "print(Fibonacci(n))\n",
    "\n"
   ]
  },
  {
   "cell_type": "code",
   "execution_count": 30,
   "id": "4bf96fc3",
   "metadata": {},
   "outputs": [
    {
     "name": "stdout",
     "output_type": "stream",
     "text": [
      "1 is a Fibonacci Number\n",
      "2 is a Fibonacci Number\n",
      "3 is a Fibonacci Number\n",
      "4 is a not Fibonacci Number\n",
      "5 is a Fibonacci Number\n",
      "6 is a not Fibonacci Number\n",
      "7 is a not Fibonacci Number\n",
      "8 is a Fibonacci Number\n",
      "9 is a not Fibonacci Number\n",
      "10 is a not Fibonacci Number\n"
     ]
    }
   ],
   "source": [
    "# 11. Python Program for How to check if a given number is Fibonacci number?\n",
    "\n",
    "import math\n",
    "# if x is perfect square\n",
    "def isPerfectSquare(x):\n",
    "   s = int(math.sqrt(x))\n",
    "   return s*s == x\n",
    "# if n is a Fibinacci Number\n",
    "def isFibonacci(n):\n",
    "   #if one of 5*n*n + 4 or 5*n*n - 4 or both is a perferct square\n",
    "   return isPerfectSquare(5*n*n + 4) or isPerfectSquare(5*n*n - 4)\n",
    "for i in range(1,11):\n",
    "   if (isFibonacci(i) == True):\n",
    "      print (i,\"is a Fibonacci Number\")\n",
    "   else:\n",
    "      print (i,\"is a not Fibonacci Number\")"
   ]
  },
  {
   "cell_type": "code",
   "execution_count": 39,
   "id": "b185b174",
   "metadata": {},
   "outputs": [
    {
     "name": "stdout",
     "output_type": "stream",
     "text": [
      "Position of n'th multiple of k inFibonacci Series is:  30\n"
     ]
    }
   ],
   "source": [
    "# 12.Python Program for n\\’th multiple of a number in Fibonacci Series.\n",
    "\n",
    "# find function\n",
    "def find(k, n):\n",
    "   f1 = 0\n",
    "   f2 = 1\n",
    "   i =2;\n",
    "   #fibonacci recursion\n",
    "   while i!=0:\n",
    "      f3 = f1 + f2;\n",
    "      f1 = f2;\n",
    "      f2 = f3;\n",
    "      if f2%k == 0:\n",
    "         return n*i\n",
    "      i+=1\n",
    "   return\n",
    "# multiple of which number\n",
    "n = 5;\n",
    "# number\n",
    "k = 4;\n",
    "print(\"Position of n\\'th multiple of k in\"\"Fibonacci Series is: \", find(k,n));"
   ]
  },
  {
   "cell_type": "code",
   "execution_count": 4,
   "id": "55e6a7a0",
   "metadata": {},
   "outputs": [
    {
     "name": "stdout",
     "output_type": "stream",
     "text": [
      "Enter nth number : 3\n",
      "Sum of squares is :  14\n"
     ]
    }
   ],
   "source": [
    "# 13.Python Program for Sum of squares of first n natural numbers.\n",
    "n = int(input(\"Enter nth number : \"))\n",
    "sum = 0\n",
    "for s in range(1, n+1):\n",
    "   sum = sum + (s*s)\n",
    "print(\"Sum of squares is : \", sum)\n",
    "\n",
    "\n"
   ]
  },
  {
   "cell_type": "code",
   "execution_count": 27,
   "id": "009367a8",
   "metadata": {},
   "outputs": [
    {
     "name": "stdout",
     "output_type": "stream",
     "text": [
      "36\n"
     ]
    }
   ],
   "source": [
    "# 14. Python Program for cube sum of first n natural numbers.\n",
    "\n",
    "def sumofseries(n):\n",
    "    sum = 0 \n",
    "    for i in range(1, n+1):\n",
    "        sum +=i*i*i\n",
    "    return sum \n",
    "#driver function\n",
    "n = 3\n",
    "print(sumofseries(n))\n"
   ]
  },
  {
   "cell_type": "code",
   "execution_count": 58,
   "id": "44548252",
   "metadata": {},
   "outputs": [
    {
     "name": "stdout",
     "output_type": "stream",
     "text": [
      "6\n",
      "120\n"
     ]
    }
   ],
   "source": [
    "# 15.Python | Multiply all numbers in the list.\n",
    "\n",
    "# list using traversal\n",
    "\n",
    "def multiplyList(myList) :\n",
    "\n",
    "    # Multiply  one by one\n",
    "    result = 1\n",
    "    for x in myList:\n",
    "         result = result * x\n",
    "    return result\n",
    "\n",
    "# Driver code\n",
    "list1 = [1, 2, 3]\n",
    "list2 = [4, 5, 6]\n",
    "print(multiplyList(list1))\n",
    "print(multiplyList(list2))\n"
   ]
  },
  {
   "cell_type": "code",
   "execution_count": 65,
   "id": "0e6d44f7",
   "metadata": {},
   "outputs": [
    {
     "name": "stdout",
     "output_type": "stream",
     "text": [
      "smallest elemrnt is: 1\n"
     ]
    }
   ],
   "source": [
    "# 16.Python program to find smallest number in a list.\n",
    "\n",
    "#list of number\n",
    "list1 = [10, 40, 2, 50, 90, 1, 200, 45,]\n",
    "\n",
    "#sort the list\n",
    "list1.sort()\n",
    "\n",
    "#printing the first element\n",
    "print(\"smallest elemrnt is:\", *list1[:1])"
   ]
  },
  {
   "cell_type": "code",
   "execution_count": 69,
   "id": "7932d9bb",
   "metadata": {},
   "outputs": [
    {
     "name": "stdout",
     "output_type": "stream",
     "text": [
      "largest element is: 200\n"
     ]
    }
   ],
   "source": [
    "# 17.Python program to find largest number in a list.\n",
    "\n",
    "#list of number\n",
    "list1 = [10, 40, 2, 50, 90, 1, 200, 45,]\n",
    "\n",
    "#sort the list\n",
    "list1.sort()\n",
    "\n",
    "#printing the first element\n",
    "print(\"largest element is:\", list1[-1])\n",
    "\n"
   ]
  },
  {
   "cell_type": "code",
   "execution_count": 74,
   "id": "d300ad1d",
   "metadata": {},
   "outputs": [
    {
     "name": "stdout",
     "output_type": "stream",
     "text": [
      " second largest element is: 90\n"
     ]
    }
   ],
   "source": [
    "# 18.Python program to find second largest number in a list.\n",
    "\n",
    "#list of number\n",
    "list1 = [10, 40, 2, 50, 90, 1, 200, 45,]\n",
    "\n",
    "#sort the list\n",
    "list1.sort()\n",
    "\n",
    "#printing the first element\n",
    "print(\" second largest element is:\", list1[-2])"
   ]
  },
  {
   "cell_type": "code",
   "execution_count": null,
   "id": "9b8c37b8",
   "metadata": {},
   "outputs": [],
   "source": [
    "# 19. Python program to find N largest elements from a list.\n",
    "\n"
   ]
  },
  {
   "cell_type": "code",
   "execution_count": 19,
   "id": "e20b57aa",
   "metadata": {},
   "outputs": [
    {
     "name": "stdout",
     "output_type": "stream",
     "text": [
      "2 4 6 8 10 22 36 "
     ]
    }
   ],
   "source": [
    "# 20. Python program to print even numbers in a list.\n",
    "\n",
    "list1 = [1, 2, 3, 4, 5, 6, 7, 8, 9, 10, 22, 55, 35, 36]\n",
    "for num in list1:\n",
    "    #checking condition\n",
    "    if num % 2 == 0:\n",
    "        print(num, end=\" \")"
   ]
  },
  {
   "cell_type": "code",
   "execution_count": 33,
   "id": "a3538cd9",
   "metadata": {},
   "outputs": [
    {
     "name": "stdout",
     "output_type": "stream",
     "text": [
      "1 3 5 7 9 55 35 "
     ]
    }
   ],
   "source": [
    "# 21. Python program to print odd numbers in a List.\n",
    "list1 = [1, 2, 3, 4, 5, 6, 7, 8, 9, 10, 22, 55, 35, 36]\n",
    "  \n",
    "# iterating each number in list\n",
    "for num in list1:\n",
    "      \n",
    "    # checking condition\n",
    "    if num % 2 != 0:\n",
    "        print(num, end = \" \")"
   ]
  },
  {
   "cell_type": "code",
   "execution_count": 40,
   "id": "8eeb0762",
   "metadata": {},
   "outputs": [
    {
     "name": "stdout",
     "output_type": "stream",
     "text": [
      "enter the start range: 2\n",
      "enter the end range: 40\n",
      "2 4 6 8 10 12 14 16 18 20 22 24 26 28 30 32 34 36 38 40 "
     ]
    }
   ],
   "source": [
    "# 22. Python program to print all even numbers in a range.\n",
    "start = int(input(\"enter the start range: \"))\n",
    "end = int(input(\"enter the end range: \"))\n",
    "# interating each number in list\n",
    "for num in range(start, end + 1):\n",
    "    #checking condition\n",
    "    if num % 2 == 0:\n",
    "        print(num, end = \" \")"
   ]
  }
 ],
 "metadata": {
  "kernelspec": {
   "display_name": "Python 3",
   "language": "python",
   "name": "python3"
  },
  "language_info": {
   "codemirror_mode": {
    "name": "ipython",
    "version": 3
   },
   "file_extension": ".py",
   "mimetype": "text/x-python",
   "name": "python",
   "nbconvert_exporter": "python",
   "pygments_lexer": "ipython3",
   "version": "3.8.8"
  }
 },
 "nbformat": 4,
 "nbformat_minor": 5
}
